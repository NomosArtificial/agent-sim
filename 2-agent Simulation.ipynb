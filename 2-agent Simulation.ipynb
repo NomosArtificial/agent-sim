{
 "cells": [
  {
   "cell_type": "code",
   "execution_count": 3,
   "id": "d3ddc388",
   "metadata": {},
   "outputs": [
    {
     "name": "stdout",
     "output_type": "stream",
     "text": [
      "None\n"
     ]
    }
   ],
   "source": [
    "from agent_sim.agent import Agent\n",
    "from agent_sim.prompts_library import ACCOUNTANT_INCEPTION_PROMPT, AI_INCEPTION_PROMPT\n",
    "from agent_sim.simulation import simulation\n",
    "from langchain.chat_models import ChatOpenAI\n",
    "from pprint import pprint\n",
    "import os"
   ]
  },
  {
   "cell_type": "code",
   "execution_count": 14,
   "id": "5fbfa35d",
   "metadata": {},
   "outputs": [],
   "source": [
    "def simulation(agent1: Agent, agent2: Agent, initial_message: str, num_turns: int = 10):\n",
    "    \"\"\"\n",
    "    A function that simulates a conversation between two Agents.\n",
    "    \n",
    "    Parameters:\n",
    "        agent1 (Agent): The first agent.\n",
    "        agent2 (Agent): The second agent.\n",
    "        initial_message (str): The initial message to start the conversation.\n",
    "        num_turns (int): The number of turns in the conversation. Default is 10.\n",
    "    \n",
    "    Returns:\n",
    "        List[str]: The conversation history.\n",
    "    \"\"\"\n",
    "    # Start with an empty conversation history\n",
    "    conversation_history = []\n",
    "    \n",
    "    # Set initial roles (who is the responder and who is the initiator)\n",
    "    initiator, responder = agent1, agent2\n",
    "    \n",
    "    # Begin conversation with the provided initial message\n",
    "    message = initial_message\n",
    "    conversation_history.append(f\"{initiator.role_name}: {message}\")\n",
    "    \n",
    "    for i in range(num_turns):\n",
    "        # The responder generates a response and adds it to its memory\n",
    "        response = responder.respond(initiator.role_name, message)\n",
    "        print(f\"{responder.role_name}: {response}\")\n",
    "        conversation_history.append(f\"{responder.role_name}: {response}\")\n",
    "\n",
    "        # Swap roles for the next turn\n",
    "        initiator, responder = responder, initiator\n",
    "        # The new message for the next turn is the response from this turn\n",
    "        message = response\n",
    "    \n",
    "    return conversation_history"
   ]
  },
  {
   "cell_type": "code",
   "execution_count": 15,
   "id": "5fbf1547",
   "metadata": {},
   "outputs": [],
   "source": [
    "AI_assistant = Agent(ChatOpenAI(model_name='gpt-4'), ChatOpenAI(model_name='gpt-4'), AI_INCEPTION_PROMPT, \"AI\")\n",
    "Accountant = Agent(ChatOpenAI(model_name='gpt-4'), ChatOpenAI(model_name='gpt-4'), ACCOUNTANT_INCEPTION_PROMPT, \"Accountant\")"
   ]
  },
  {
   "cell_type": "code",
   "execution_count": null,
   "id": "f08f6a02",
   "metadata": {},
   "outputs": [
    {
     "name": "stdout",
     "output_type": "stream",
     "text": [
      "Accountant: Hello AI legal assistant, I have a client who is involved in a real estate transaction. Can you please provide me with some guidance on the legal aspects to consider during this process?\n"
     ]
    }
   ],
   "source": [
    "simulation(AI_assistant, Accountant, \"Real estate transaction\", 10)"
   ]
  }
 ],
 "metadata": {
  "kernelspec": {
   "display_name": "Python 3 (ipykernel)",
   "language": "python",
   "name": "python3"
  },
  "language_info": {
   "codemirror_mode": {
    "name": "ipython",
    "version": 3
   },
   "file_extension": ".py",
   "mimetype": "text/x-python",
   "name": "python",
   "nbconvert_exporter": "python",
   "pygments_lexer": "ipython3",
   "version": "3.9.6"
  }
 },
 "nbformat": 4,
 "nbformat_minor": 5
}
