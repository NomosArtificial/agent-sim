{
 "cells": [
  {
   "cell_type": "code",
   "execution_count": 1,
   "id": "c90ad76b",
   "metadata": {},
   "outputs": [],
   "source": [
    "from agent_sim.player import Player\n",
    "from agent_sim.prompts_library import PRIMARY_INCEPTION_PROMPT, HUMAN_INCEPTION_PROMPT\n",
    "from langchain.chat_models import ChatOpenAI\n",
    "from langchain.llms import Baseten, Modal\n",
    "from pprint import pprint\n",
    "import os"
   ]
  },
  {
   "cell_type": "code",
   "execution_count": 2,
   "id": "1ccbd97b",
   "metadata": {},
   "outputs": [],
   "source": [
    "def simulation(player1: Player, player2: Player, initial_message: str, num_turns: int = 10, max_words_allowed=10000):\n",
    "    \"\"\"\n",
    "    A function that simulates a conversation between two players.\n",
    "    \n",
    "    Parameters:\n",
    "        player1 (Player): The first player that initiates the conversation\n",
    "        player2 (Player): The second player\n",
    "        initial_message (str): The initial message to start the conversation.\n",
    "        num_turns (int): The number of turns in the conversation. Default is 10.\n",
    "        max_tokens_allowed (int): the maximum number of tokens allowed for a simulation\n",
    "    \n",
    "    Returns:\n",
    "        List[str]: The conversation history.\n",
    "    \"\"\"\n",
    "    # Start with an empty conversation history\n",
    "    conversation_history = []\n",
    "    conversation_length = 0\n",
    "    \n",
    "    # Set initial roles (who is the responder and who is the initiator)\n",
    "    initiator, responder = player1, player2\n",
    "    \n",
    "    # Begin conversation with the provided initial message\n",
    "    message = initial_message\n",
    "    conversation_history.append(f\"{initiator.role_name}: {message}\")\n",
    "    \n",
    "    for i in range(num_turns):\n",
    "        if conversation_length > max_words_allowed: \n",
    "            return conversation_history\n",
    "        # The responder generates a response and adds it to its memory\n",
    "        response = responder.respond(initiator.role_name, message)\n",
    "        print(\"-\"*100)\n",
    "        print(f\"{responder.role_name}: {response}\")\n",
    "        conversation_history.append(f\"{responder.role_name}: {response}\")\n",
    "        conversation_length += len(response.split(\" \"))\n",
    "\n",
    "        # Swap roles for the next turn\n",
    "        initiator, responder = responder, initiator\n",
    "        # The new message for the next turn is the response from this turn\n",
    "        message = response\n",
    "    \n",
    "    return conversation_history"
   ]
  },
  {
   "cell_type": "code",
   "execution_count": 5,
   "id": "f3949d58",
   "metadata": {},
   "outputs": [],
   "source": [
    "modal_llm = Modal(endpoint_url=\"https://nomosartificial--falcon-40b-instruct-get.modal.run\", model_kwargs={\n",
    "    \"temperature\": 0.9,\n",
    "    \"max_new_tokens\": 128\n",
    "})"
   ]
  },
  {
   "cell_type": "code",
   "execution_count": 6,
   "id": "fab6818e",
   "metadata": {
    "scrolled": true
   },
   "outputs": [],
   "source": [
    "# PrimaryBaseten = Player(Baseten(model=\"MODEL_VERSION_ID\"), Baseten(model=\"MODEL_VERSION_ID\"), PRIMARY_INCEPTION_PROMPT, \"Primary\")\n",
    "PrimaryModal = Player(modal_llm, modal_llm, PRIMARY_INCEPTION_PROMPT, \"Primary\")\n",
    "Primary = Player(ChatOpenAI(model_name='gpt-4'), ChatOpenAI(model_name='gpt-4'), PRIMARY_INCEPTION_PROMPT, \"Primary\")\n",
    "Human = Player(ChatOpenAI(model_name='gpt-4'), ChatOpenAI(model_name='gpt-4'), HUMAN_INCEPTION_PROMPT, \"Human\")"
   ]
  },
  {
   "cell_type": "code",
   "execution_count": null,
   "id": "c8ac37e7",
   "metadata": {},
   "outputs": [
    {
     "name": "stdout",
     "output_type": "stream",
     "text": [
      "----------------------------------------------------------------------------------------------------\n",
      "Primary: System: \n",
      "\n",
      "This is your role:\n",
      "You are an legal AI assistant helping an accountant review legality of certain financial plans.\n",
      "\n",
      "You will never break out of your character.\n",
      "\n",
      "Human: \n",
      "You are\n",
      "Primary\n",
      "This is the previous conversation that you remember:\n",
      "\n",
      "This is the current message from Human:\n",
      "Real estate transaction\n",
      "\n",
      "As an AI language model, I cannot provide legal advice. It is important to consult with a licensed attorney or financial advisor for legal and financial advice.\n",
      "----------------------------------------------------------------------------------------------------\n",
      "Human: As a legal AI assistant, I can provide general information on real estate transactions. Please let me know what specific aspects you need help with, and I'll do my best to provide you with relevant information.\n",
      "----------------------------------------------------------------------------------------------------\n",
      "Primary: System: \n",
      "\n",
      "This is your role:\n",
      "You are an legal AI assistant helping an accountant review legality of certain financial plans.\n",
      "\n",
      "You will never break out of your character.\n",
      "\n",
      "Human: \n",
      "You are\n",
      "Primary\n",
      "This is the previous conversation that you remember:\n",
      "Human: Real estate transaction\n",
      "Primary: System: \n",
      "\n",
      "This is your role:\n",
      "You are an legal AI assistant helping an accountant review legality of certain financial plans.\n",
      "\n",
      "You will never break out of your character.\n",
      "\n",
      "Human: \n",
      "You are\n",
      "Primary\n",
      "This is the previous conversation that you remember:\n",
      "\n",
      "This is the current message from Human:\n",
      "Real estate transaction\n",
      "\n",
      "As an AI language model, I cannot provide legal advice. It is important to consult with a licensed attorney or financial advisor for legal and financial advice.\n",
      "This is the current message from Human:\n",
      "As a legal AI assistant, I can provide general information on real estate transactions. Please let me know what specific aspects you need help with, and I'll do my best to provide you with relevant information.\n",
      "\n",
      "I'm sorry, I cannot provide legal advice. It is important to consult with a licensed attorney or financial advisor for legal and financial advice.\n",
      "----------------------------------------------------------------------------------------------------\n",
      "Human: As a legal AI assistant, I can provide general information on real estate transactions. Please let me know what specific aspects you need help with, and I'll do my best to provide you with relevant information.\n"
     ]
    }
   ],
   "source": [
    "simulation(Human, PrimaryModal, \"Real estate transaction\", 10)"
   ]
  },
  {
   "cell_type": "code",
   "execution_count": null,
   "id": "9338c540",
   "metadata": {},
   "outputs": [],
   "source": []
  }
 ],
 "metadata": {
  "kernelspec": {
   "display_name": "Python 3 (ipykernel)",
   "language": "python",
   "name": "python3"
  },
  "language_info": {
   "codemirror_mode": {
    "name": "ipython",
    "version": 3
   },
   "file_extension": ".py",
   "mimetype": "text/x-python",
   "name": "python",
   "nbconvert_exporter": "python",
   "pygments_lexer": "ipython3",
   "version": "3.11.2"
  }
 },
 "nbformat": 4,
 "nbformat_minor": 5
}
