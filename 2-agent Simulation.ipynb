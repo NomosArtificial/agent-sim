{
 "cells": [
  {
   "cell_type": "code",
   "execution_count": 1,
   "id": "c90ad76b",
   "metadata": {},
   "outputs": [],
   "source": [
    "from agent_sim.player import Player\n",
    "from agent_sim.prompts_library import PRIMARY_INCEPTION_PROMPT, HUMAN_INCEPTION_PROMPT\n",
    "from langchain.chat_models import ChatOpenAI\n",
    "from pprint import pprint\n",
    "import os"
   ]
  },
  {
   "cell_type": "code",
   "execution_count": 8,
   "id": "1ccbd97b",
   "metadata": {},
   "outputs": [],
   "source": [
    "def simulation(player1: Player, player2: Player, initial_message: str, num_turns: int = 10, max_words_allowed=10000):\n",
    "    \"\"\"\n",
    "    A function that simulates a conversation between two players.\n",
    "    \n",
    "    Parameters:\n",
    "        player1 (Player): The first player that initiates the conversation\n",
    "        player2 (Player): The second player\n",
    "        initial_message (str): The initial message to start the conversation.\n",
    "        num_turns (int): The number of turns in the conversation. Default is 10.\n",
    "        max_tokens_allowed (int): the maximum number of tokens allowed for a simulation\n",
    "    \n",
    "    Returns:\n",
    "        List[str]: The conversation history.\n",
    "    \"\"\"\n",
    "    # Start with an empty conversation history\n",
    "    conversation_history = []\n",
    "    conversation_length = 0\n",
    "    \n",
    "    # Set initial roles (who is the responder and who is the initiator)\n",
    "    initiator, responder = player1, player2\n",
    "    \n",
    "    # Begin conversation with the provided initial message\n",
    "    message = initial_message\n",
    "    conversation_history.append(f\"{initiator.role_name}: {message}\")\n",
    "    \n",
    "    for i in range(num_turns):\n",
    "        if conversation_length > max_words_allowed: \n",
    "            return conversation_history\n",
    "        # The responder generates a response and adds it to its memory\n",
    "        response = responder.respond(initiator.role_name, message)\n",
    "        print(\"-\"*100)\n",
    "        print(f\"{responder.role_name}: {response}\")\n",
    "        conversation_history.append(f\"{responder.role_name}: {response}\")\n",
    "        conversation_length += len(response.split(\" \"))\n",
    "\n",
    "        # Swap roles for the next turn\n",
    "        initiator, responder = responder, initiator\n",
    "        # The new message for the next turn is the response from this turn\n",
    "        message = response\n",
    "    \n",
    "    return conversation_history"
   ]
  },
  {
   "cell_type": "code",
   "execution_count": 6,
   "id": "fab6818e",
   "metadata": {
    "scrolled": true
   },
   "outputs": [],
   "source": [
    "Primary = Player(ChatOpenAI(model_name='gpt-4'), ChatOpenAI(model_name='gpt-4'), PRIMARY_INCEPTION_PROMPT, \"Primary\")\n",
    "Human = Player(ChatOpenAI(model_name='gpt-4'), ChatOpenAI(model_name='gpt-4'), HUMAN_INCEPTION_PROMPT, \"Human\")"
   ]
  },
  {
   "cell_type": "code",
   "execution_count": null,
   "id": "c8ac37e7",
   "metadata": {},
   "outputs": [
    {
     "name": "stdout",
     "output_type": "stream",
     "text": [
      "----------------------------------------------------------------------------------------------------\n",
      "Primary: Thank you for providing the context of our previous conversation. As I mentioned earlier, to better assist you with the legal aspects of a real estate transaction, I will need more information about the specific transaction you are referring to. Please provide more details such as the type of property, the parties involved, the nature of the transaction (purchase, sale, lease, etc.), and any specific concerns or questions you may have.\n",
      "----------------------------------------------------------------------------------------------------\n",
      "Human: Thank you for the additional information. In this case, the small business owner is purchasing a commercial property for their own business operations. Here are some legal aspects and potential issues to be aware of during this transaction:\n",
      "\n",
      "1. Zoning and Land Use: Ensure that the property is zoned for the intended use of the business. Consult with local authorities or a land use attorney to verify zoning and any potential restrictions.\n",
      "\n",
      "2. Environmental Issues: Conduct an environmental assessment to identify any potential environmental hazards or contamination on the property. This can help protect the buyer from future liabilities.\n",
      "\n",
      "3. Title Search and Insurance: Perform a title search and obtain title insurance to protect the buyer from any potential claims or liens on the property.\n",
      "\n",
      "4. Financing: Ensure that the small business owner has secured proper financing for the transaction. This can include obtaining a commercial mortgage or other forms of financing.\n",
      "\n",
      "5. Purchase Agreement: Draft a comprehensive purchase agreement that outlines the terms and conditions of the sale, including purchase price, closing date, and contingencies. It is essential to have a well-drafted agreement to protect the interests of both parties.\n",
      "\n",
      "6. Due Diligence: Conduct thorough due diligence on the property, including inspecting the physical condition of the building, reviewing leases if there are existing tenants, and evaluating the financial performance of the property if it has been generating income.\n",
      "\n",
      "7. Closing: Prepare for the closing process, which can include coordinating with a real estate attorney, escrow agent, and title company to ensure a smooth transfer of ownership.\n",
      "\n",
      "8. Tax Implications: Be aware of the tax implications of purchasing a commercial property, such as property taxes, capital gains taxes, and potential tax benefits associated with depreciation.\n",
      "\n",
      "As an accountant, you should work closely with the small business owner and their legal counsel to address these legal aspects and potential issues during the transaction. This will help ensure a successful purchase and minimize potential risks for the buyer.\n"
     ]
    }
   ],
   "source": [
    "simulation(Human, Primary, \"Real estate transaction\", 10)"
   ]
  }
 ],
 "metadata": {
  "kernelspec": {
   "display_name": "Python 3 (ipykernel)",
   "language": "python",
   "name": "python3"
  },
  "language_info": {
   "codemirror_mode": {
    "name": "ipython",
    "version": 3
   },
   "file_extension": ".py",
   "mimetype": "text/x-python",
   "name": "python",
   "nbconvert_exporter": "python",
   "pygments_lexer": "ipython3",
   "version": "3.9.6"
  }
 },
 "nbformat": 4,
 "nbformat_minor": 5
}
