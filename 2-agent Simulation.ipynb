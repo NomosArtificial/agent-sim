{
 "cells": [
  {
   "cell_type": "code",
   "execution_count": 2,
   "id": "580e78c6",
   "metadata": {},
   "outputs": [
    {
     "ename": "ModuleNotFoundError",
     "evalue": "No module named 'agent_sim.agent'",
     "output_type": "error",
     "traceback": [
      "\u001b[0;31m---------------------------------------------------------------------------\u001b[0m",
      "\u001b[0;31mModuleNotFoundError\u001b[0m                       Traceback (most recent call last)",
      "Cell \u001b[0;32mIn[2], line 3\u001b[0m\n\u001b[1;32m      1\u001b[0m \u001b[38;5;28;01mfrom\u001b[39;00m \u001b[38;5;21;01magent_sim\u001b[39;00m\u001b[38;5;21;01m.\u001b[39;00m\u001b[38;5;21;01mplayer\u001b[39;00m \u001b[38;5;28;01mimport\u001b[39;00m Player\n\u001b[1;32m      2\u001b[0m \u001b[38;5;28;01mfrom\u001b[39;00m \u001b[38;5;21;01magent_sim\u001b[39;00m\u001b[38;5;21;01m.\u001b[39;00m\u001b[38;5;21;01mprompts_library\u001b[39;00m \u001b[38;5;28;01mimport\u001b[39;00m PRIMARY_INCEPTION_PROMPT, HUMAN_INCEPTION_PROMPT\n\u001b[0;32m----> 3\u001b[0m \u001b[38;5;28;01mfrom\u001b[39;00m \u001b[38;5;21;01magent_sim\u001b[39;00m\u001b[38;5;21;01m.\u001b[39;00m\u001b[38;5;21;01msimulation\u001b[39;00m \u001b[38;5;28;01mimport\u001b[39;00m simulation\n\u001b[1;32m      4\u001b[0m \u001b[38;5;28;01mfrom\u001b[39;00m \u001b[38;5;21;01mlangchain\u001b[39;00m\u001b[38;5;21;01m.\u001b[39;00m\u001b[38;5;21;01mchat_models\u001b[39;00m \u001b[38;5;28;01mimport\u001b[39;00m ChatOpenAI\n\u001b[1;32m      5\u001b[0m \u001b[38;5;28;01mfrom\u001b[39;00m \u001b[38;5;21;01mpprint\u001b[39;00m \u001b[38;5;28;01mimport\u001b[39;00m pprint\n",
      "File \u001b[0;32m~/agent-sim/agent_sim/simulation.py:6\u001b[0m\n\u001b[1;32m      2\u001b[0m \u001b[38;5;28;01mfrom\u001b[39;00m \u001b[38;5;21;01mtyping\u001b[39;00m \u001b[38;5;28;01mimport\u001b[39;00m List, Optional\n\u001b[1;32m      4\u001b[0m \u001b[38;5;28;01mfrom\u001b[39;00m \u001b[38;5;21;01mlangchain\u001b[39;00m\u001b[38;5;21;01m.\u001b[39;00m\u001b[38;5;21;01mcallbacks\u001b[39;00m\u001b[38;5;21;01m.\u001b[39;00m\u001b[38;5;21;01mmanager\u001b[39;00m \u001b[38;5;28;01mimport\u001b[39;00m tracing_v2_enabled\n\u001b[0;32m----> 6\u001b[0m \u001b[38;5;28;01mfrom\u001b[39;00m \u001b[38;5;21;01magent_sim\u001b[39;00m\u001b[38;5;21;01m.\u001b[39;00m\u001b[38;5;21;01magent\u001b[39;00m \u001b[38;5;28;01mimport\u001b[39;00m Agent\n\u001b[1;32m      9\u001b[0m \u001b[38;5;28;01mdef\u001b[39;00m \u001b[38;5;21msimulation\u001b[39m(\n\u001b[1;32m     10\u001b[0m     agents: List[Agent], seed_message: \u001b[38;5;28mstr\u001b[39m, simulation_name: Optional[\u001b[38;5;28mstr\u001b[39m] \u001b[38;5;241m=\u001b[39m \u001b[38;5;28;01mNone\u001b[39;00m\n\u001b[1;32m     11\u001b[0m ):\n\u001b[1;32m     12\u001b[0m \u001b[38;5;250m    \u001b[39m\u001b[38;5;124;03m\"\"\"\u001b[39;00m\n\u001b[1;32m     13\u001b[0m \u001b[38;5;124;03m    Simulates a conversation between two agents.\u001b[39;00m\n\u001b[1;32m     14\u001b[0m \n\u001b[1;32m     15\u001b[0m \u001b[38;5;124;03m    This is just a placeholder implementation to show the interface with the agents, please change.\u001b[39;00m\n\u001b[1;32m     16\u001b[0m \u001b[38;5;124;03m    \"\"\"\u001b[39;00m\n",
      "\u001b[0;31mModuleNotFoundError\u001b[0m: No module named 'agent_sim.agent'"
     ]
    }
   ],
   "source": [
    "from agent_sim.player import Player\n",
    "from agent_sim.prompts_library import PRIMARYY_INCEPTION_PROMPT, HUMAN_INCEPTION_PROMPT\n",
    "from agent_sim.simulation import simulation\n",
    "from langchain.chat_models import ChatOpenAI\n",
    "from pprint import pprint\n",
    "import os"
   ]
  },
  {
   "cell_type": "code",
   "execution_count": null,
   "id": "0297ed5a",
   "metadata": {},
   "outputs": [],
   "source": [
    "def simulation(player1: Player, player2: Player, initial_message: str, num_turns: int = 10, max_words_allowed=10000):\n",
    "    \"\"\"\n",
    "    A function that simulates a conversation between two players.\n",
    "    \n",
    "    Parameters:\n",
    "        player1 (Player): The first player that initiates the conversation\n",
    "        player2 (Player): The second player\n",
    "        initial_message (str): The initial message to start the conversation.\n",
    "        num_turns (int): The number of turns in the conversation. Default is 10.\n",
    "        max_tokens_allowed (int): the maximum number of tokens allowed for a simulation\n",
    "    \n",
    "    Returns:\n",
    "        List[str]: The conversation history.\n",
    "    \"\"\"\n",
    "    # Start with an empty conversation history\n",
    "    conversation_history = []\n",
    "    conversation_length = 0\n",
    "    \n",
    "    # Set initial roles (who is the responder and who is the initiator)\n",
    "    initiator, responder = player1, player2\n",
    "    \n",
    "    # Begin conversation with the provided initial message\n",
    "    message = initial_message\n",
    "    conversation_history.append(f\"{initiator.role_name}: {message}\")\n",
    "    \n",
    "    for i in range(num_turns):\n",
    "        if conversation_length > max_words_allowed: \n",
    "            return conversation_history\n",
    "        # The responder generates a response and adds it to its memory\n",
    "        response = responder.respond(initiator.role_name, message)\n",
    "        print(f\"{responder.role_name}: {response}\")\n",
    "        conversation_history.append(f\"{responder.role_name}: {response}\")\n",
    "        conversation_length += len(response.split(\" \"))\n",
    "\n",
    "        # Swap roles for the next turn\n",
    "        initiator, responder = responder, initiator\n",
    "        # The new message for the next turn is the response from this turn\n",
    "        message = response\n",
    "    \n",
    "    return conversation_history"
   ]
  },
  {
   "cell_type": "code",
   "execution_count": 15,
   "id": "e57862a0",
   "metadata": {},
   "outputs": [],
   "source": [
    "Primary = Player(ChatOpenAI(model_name='gpt-4'), ChatOpenAI(model_name='gpt-4'), PRIMARY_INCEPTION_PROMPT, \"Primary\")\n",
    "Human = Player(ChatOpenAI(model_name='gpt-4'), ChatOpenAI(model_name='gpt-4'), HUMAN_INCEPTION_PROMPT, \"Human\")"
   ]
  },
  {
   "cell_type": "code",
   "execution_count": null,
   "id": "2c0458a2",
   "metadata": {},
   "outputs": [],
   "source": [
    "simulation(Human, Primary, \"Real estate transaction\", 10)"
   ]
  }
 ],
 "metadata": {
  "kernelspec": {
   "display_name": "Python 3 (ipykernel)",
   "language": "python",
   "name": "python3"
  },
  "language_info": {
   "codemirror_mode": {
    "name": "ipython",
    "version": 3
   },
   "file_extension": ".py",
   "mimetype": "text/x-python",
   "name": "python",
   "nbconvert_exporter": "python",
   "pygments_lexer": "ipython3",
   "version": "3.9.6"
  }
 },
 "nbformat": 4,
 "nbformat_minor": 5
}
