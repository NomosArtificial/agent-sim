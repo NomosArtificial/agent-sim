{
 "cells": [
  {
   "cell_type": "code",
   "execution_count": 1,
   "id": "84c46d83",
   "metadata": {},
   "outputs": [],
   "source": [
    "from agent_sim.agent import Agent\n",
    "from agent_sim.prompts_library import ACCOUNTANT_INCEPTION_PROMPT, AI_INCEPTION_PROMPT\n",
    "from agent_sim.simulation import simulation\n",
    "from langchain.chat_models import ChatOpenAI\n",
    "from pprint import pprint"
   ]
  },
  {
   "cell_type": "code",
   "execution_count": 2,
   "id": "47857ded",
   "metadata": {},
   "outputs": [],
   "source": [
    "new_agent = Agent(ChatOpenAI(), ChatOpenAI(), ACCOUNTANT_INCEPTION_PROMPT, \"Accountant\")\n",
    "new_agent.add_to_memory(\"AI:\", \"am I an egg?\")\n",
    "new_agent.add_to_memory(\"Accountant\", \"you are an egg\")"
   ]
  },
  {
   "cell_type": "code",
   "execution_count": 3,
   "id": "e7852dc8",
   "metadata": {},
   "outputs": [
    {
     "name": "stderr",
     "output_type": "stream",
     "text": [
      "Retrying langchain.chat_models.openai.ChatOpenAI.completion_with_retry.<locals>._completion_with_retry in 1.0 seconds as it raised RateLimitError: The server had an error while processing your request. Sorry about that!.\n"
     ]
    },
    {
     "name": "stdout",
     "output_type": "stream",
     "text": [
      "'Hello! Is there something I can assist you with today as an accountant egg?'\n"
     ]
    }
   ],
   "source": [
    "pprint(new_agent.respond(\"hello\"))"
   ]
  },
  {
   "cell_type": "code",
   "execution_count": 4,
   "id": "ed64f117",
   "metadata": {},
   "outputs": [
    {
     "name": "stderr",
     "output_type": "stream",
     "text": [
      "/Users/nuno/dev/agent-sim/.venv/lib/python3.11/site-packages/langchain/callbacks/manager.py:115: UserWarning: The tracing v2 API is in development. This is not yet stable and may change in the future.\n",
      "  warnings.warn(\n"
     ]
    },
    {
     "data": {
      "text/plain": [
       "'Hello! Is there anything I can help you with?'"
      ]
     },
     "execution_count": 4,
     "metadata": {},
     "output_type": "execute_result"
    }
   ],
   "source": [
    "simulation([new_agent], 'hello')"
   ]
  }
 ],
 "metadata": {
  "kernelspec": {
   "display_name": "Python 3 (ipykernel)",
   "language": "python",
   "name": "python3"
  },
  "language_info": {
   "codemirror_mode": {
    "name": "ipython",
    "version": 3
   },
   "file_extension": ".py",
   "mimetype": "text/x-python",
   "name": "python",
   "nbconvert_exporter": "python",
   "pygments_lexer": "ipython3",
   "version": "3.11.2"
  }
 },
 "nbformat": 4,
 "nbformat_minor": 5
}
