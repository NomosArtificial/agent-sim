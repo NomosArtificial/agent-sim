{
 "cells": [
  {
   "cell_type": "code",
   "execution_count": 1,
   "id": "84c46d83",
   "metadata": {},
   "outputs": [],
   "source": [
    "from components.agent import Agent\n",
    "from components.prompts_library import ACCOUNTANT_INCEPTION_PROMPT, AI_INCEPTION_PROMPT\n",
    "from pprint import pprint"
   ]
  },
  {
   "cell_type": "code",
   "execution_count": 5,
   "id": "43e68fe0",
   "metadata": {},
   "outputs": [],
   "source": [
    "def custom_model(system_prompt, user_prompt):\n",
    "    return system_prompt, user_prompt"
   ]
  },
  {
   "cell_type": "code",
   "execution_count": 6,
   "id": "47857ded",
   "metadata": {},
   "outputs": [],
   "source": [
    "new_agent = Agent(custom_model, custom_model, ACCOUNTANT_INCEPTION_PROMPT, \"Accountant\")\n",
    "new_agent.add_to_memory(\"AI:\", \"am I an egg?\")\n",
    "new_agent.add_to_memory(\"Accountant\", \"you are an egg\")"
   ]
  },
  {
   "cell_type": "code",
   "execution_count": 7,
   "id": "e7852dc8",
   "metadata": {},
   "outputs": [
    {
     "name": "stdout",
     "output_type": "stream",
     "text": [
      "('\\n'\n",
      " 'You are an accountant, but you are also an egg. The question of what you are '\n",
      " 'is a\\n'\n",
      " \"highly philosophical one, and we don't have for that. \\n\"\n",
      " '\\n'\n",
      " 'For all intents and purposes, you are an egg.\\n',\n",
      " '\\n'\n",
      " 'This is the previous conversation that you remember:\\n'\n",
      " 'AI:: am I an egg?\\n'\n",
      " 'Accountant: you are an egg\\n'\n",
      " 'This is the current message that you are responding to\\n'\n",
      " 'hello\\n')\n"
     ]
    }
   ],
   "source": [
    "pprint(new_agent.respond(\"hello\"))"
   ]
  }
 ],
 "metadata": {
  "kernelspec": {
   "display_name": "Python 3 (ipykernel)",
   "language": "python",
   "name": "python3"
  },
  "language_info": {
   "codemirror_mode": {
    "name": "ipython",
    "version": 3
   },
   "file_extension": ".py",
   "mimetype": "text/x-python",
   "name": "python",
   "nbconvert_exporter": "python",
   "pygments_lexer": "ipython3",
   "version": "3.9.6"
  }
 },
 "nbformat": 4,
 "nbformat_minor": 5
}
